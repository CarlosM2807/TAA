{
 "cells": [
  {
   "cell_type": "code",
   "execution_count": 96,
   "id": "b4f8e95c",
   "metadata": {},
   "outputs": [],
   "source": [
    "tasaerror = 0.04022\n",
    "numeroInstancias = 435"
   ]
  },
  {
   "cell_type": "code",
   "execution_count": 97,
   "id": "aa0eaa9b",
   "metadata": {},
   "outputs": [
    {
     "data": {
      "text/plain": [
       "0.009420246183668424"
      ]
     },
     "execution_count": 97,
     "metadata": {},
     "output_type": "execute_result"
    }
   ],
   "source": [
    "d = (((tasaerror)*(1-tasaerror))/numeroInstancias)**0.5\n",
    "d"
   ]
  },
  {
   "cell_type": "code",
   "execution_count": 98,
   "id": "3fe8efdf",
   "metadata": {},
   "outputs": [
    {
     "data": {
      "text/plain": [
       "0.05868368251999011"
      ]
     },
     "execution_count": 98,
     "metadata": {},
     "output_type": "execute_result"
    }
   ],
   "source": [
    "max = tasaerror + 1.96*(d)\n",
    "max"
   ]
  },
  {
   "cell_type": "code",
   "execution_count": 99,
   "id": "97406367",
   "metadata": {},
   "outputs": [
    {
     "data": {
      "text/plain": [
       "0.021756317480009887"
      ]
     },
     "execution_count": 99,
     "metadata": {},
     "output_type": "execute_result"
    }
   ],
   "source": [
    "min = tasaerror - 1.96*(d)\n",
    "min"
   ]
  },
  {
   "cell_type": "code",
   "execution_count": null,
   "id": "c1b72a5d",
   "metadata": {},
   "outputs": [],
   "source": []
  }
 ],
 "metadata": {
  "kernelspec": {
   "display_name": "Python 3 (ipykernel)",
   "language": "python",
   "name": "python3"
  },
  "language_info": {
   "codemirror_mode": {
    "name": "ipython",
    "version": 3
   },
   "file_extension": ".py",
   "mimetype": "text/x-python",
   "name": "python",
   "nbconvert_exporter": "python",
   "pygments_lexer": "ipython3",
   "version": "3.9.7"
  }
 },
 "nbformat": 4,
 "nbformat_minor": 5
}
