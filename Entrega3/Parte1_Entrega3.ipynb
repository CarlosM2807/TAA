{
 "cells": [
  {
   "cell_type": "markdown",
   "id": "9968fd8a",
   "metadata": {},
   "source": [
    "# ENTREGA 3 -----> Carlos Martin Sanz"
   ]
  },
  {
   "cell_type": "code",
   "execution_count": 40,
   "id": "7cfd1920",
   "metadata": {},
   "outputs": [],
   "source": [
    "import numpy as np\n",
    "from scipy.stats import entropy\n",
    "import pandas as pd\n",
    "from sklearn.tree import DecisionTreeClassifier, export_graphviz, export_text\n",
    "from re import findall, finditer"
   ]
  },
  {
   "cell_type": "code",
   "execution_count": 41,
   "id": "45407f5c",
   "metadata": {},
   "outputs": [
    {
     "data": {
      "text/html": [
       "<div>\n",
       "<style scoped>\n",
       "    .dataframe tbody tr th:only-of-type {\n",
       "        vertical-align: middle;\n",
       "    }\n",
       "\n",
       "    .dataframe tbody tr th {\n",
       "        vertical-align: top;\n",
       "    }\n",
       "\n",
       "    .dataframe thead th {\n",
       "        text-align: right;\n",
       "    }\n",
       "</style>\n",
       "<table border=\"1\" class=\"dataframe\">\n",
       "  <thead>\n",
       "    <tr style=\"text-align: right;\">\n",
       "      <th></th>\n",
       "      <th>Presion</th>\n",
       "      <th>Clase</th>\n",
       "    </tr>\n",
       "  </thead>\n",
       "  <tbody>\n",
       "    <tr>\n",
       "      <th>0</th>\n",
       "      <td>40</td>\n",
       "      <td>+</td>\n",
       "    </tr>\n",
       "    <tr>\n",
       "      <th>1</th>\n",
       "      <td>48</td>\n",
       "      <td>+</td>\n",
       "    </tr>\n",
       "    <tr>\n",
       "      <th>2</th>\n",
       "      <td>60</td>\n",
       "      <td>-</td>\n",
       "    </tr>\n",
       "    <tr>\n",
       "      <th>3</th>\n",
       "      <td>72</td>\n",
       "      <td>-</td>\n",
       "    </tr>\n",
       "    <tr>\n",
       "      <th>4</th>\n",
       "      <td>80</td>\n",
       "      <td>-</td>\n",
       "    </tr>\n",
       "    <tr>\n",
       "      <th>5</th>\n",
       "      <td>90</td>\n",
       "      <td>+</td>\n",
       "    </tr>\n",
       "  </tbody>\n",
       "</table>\n",
       "</div>"
      ],
      "text/plain": [
       "   Presion Clase\n",
       "0       40     +\n",
       "1       48     +\n",
       "2       60     -\n",
       "3       72     -\n",
       "4       80     -\n",
       "5       90     +"
      ]
     },
     "execution_count": 41,
     "metadata": {},
     "output_type": "execute_result"
    }
   ],
   "source": [
    "# Creo la tabla de los apuntes de la asignatura\n",
    "\n",
    "tablaAP = pd.DataFrame(columns = ['Presion','Clase'], index = np.arange(6))\n",
    "tablaAP.Presion = [40, 48, 60, 72, 80, 90]\n",
    "tablaAP.Clase = ['+', '+', '-', '-', '-', '+']\n",
    "tablaAP"
   ]
  },
  {
   "cell_type": "code",
   "execution_count": 42,
   "id": "65cea49b",
   "metadata": {},
   "outputs": [
    {
     "data": {
      "text/plain": [
       "[1, 1, 0, 0, 0, 1]"
      ]
     },
     "execution_count": 42,
     "metadata": {},
     "output_type": "execute_result"
    }
   ],
   "source": [
    "lista = []\n",
    "for i in tablaAP.Clase:\n",
    "    if i == '+':\n",
    "        lista.append(1)\n",
    "    else:\n",
    "        lista.append(0)\n",
    "lista"
   ]
  },
  {
   "cell_type": "code",
   "execution_count": 43,
   "id": "57657f25",
   "metadata": {},
   "outputs": [
    {
     "data": {
      "text/plain": [
       "1.0"
      ]
     },
     "execution_count": 43,
     "metadata": {},
     "output_type": "execute_result"
    }
   ],
   "source": [
    "H = entropy(tablaAP.Clase.value_counts(normalize = True), base = 2)\n",
    "H"
   ]
  },
  {
   "cell_type": "code",
   "execution_count": 44,
   "id": "cd160360",
   "metadata": {},
   "outputs": [
    {
     "data": {
      "text/html": [
       "<div>\n",
       "<style scoped>\n",
       "    .dataframe tbody tr th:only-of-type {\n",
       "        vertical-align: middle;\n",
       "    }\n",
       "\n",
       "    .dataframe tbody tr th {\n",
       "        vertical-align: top;\n",
       "    }\n",
       "\n",
       "    .dataframe thead th {\n",
       "        text-align: right;\n",
       "    }\n",
       "</style>\n",
       "<table border=\"1\" class=\"dataframe\">\n",
       "  <thead>\n",
       "    <tr style=\"text-align: right;\">\n",
       "      <th></th>\n",
       "      <th>Presion</th>\n",
       "      <th>Clase</th>\n",
       "    </tr>\n",
       "  </thead>\n",
       "  <tbody>\n",
       "    <tr>\n",
       "      <th>0</th>\n",
       "      <td>0</td>\n",
       "      <td>+</td>\n",
       "    </tr>\n",
       "    <tr>\n",
       "      <th>1</th>\n",
       "      <td>0</td>\n",
       "      <td>+</td>\n",
       "    </tr>\n",
       "    <tr>\n",
       "      <th>2</th>\n",
       "      <td>1</td>\n",
       "      <td>-</td>\n",
       "    </tr>\n",
       "    <tr>\n",
       "      <th>3</th>\n",
       "      <td>1</td>\n",
       "      <td>-</td>\n",
       "    </tr>\n",
       "    <tr>\n",
       "      <th>4</th>\n",
       "      <td>1</td>\n",
       "      <td>-</td>\n",
       "    </tr>\n",
       "    <tr>\n",
       "      <th>5</th>\n",
       "      <td>1</td>\n",
       "      <td>+</td>\n",
       "    </tr>\n",
       "  </tbody>\n",
       "</table>\n",
       "</div>"
      ],
      "text/plain": [
       "   Presion Clase\n",
       "0        0     +\n",
       "1        0     +\n",
       "2        1     -\n",
       "3        1     -\n",
       "4        1     -\n",
       "5        1     +"
      ]
     },
     "execution_count": 44,
     "metadata": {},
     "output_type": "execute_result"
    }
   ],
   "source": [
    "tablaAP1 = tablaAP\n",
    "tablaAP1.Presion = np.digitize(tablaAP.Presion, bins = [(48 + 60) / 2])\n",
    "tablaAP1"
   ]
  },
  {
   "cell_type": "code",
   "execution_count": 45,
   "id": "a7364a53",
   "metadata": {},
   "outputs": [
    {
     "data": {
      "text/plain": [
       "0.4591479170272448"
      ]
     },
     "execution_count": 45,
     "metadata": {},
     "output_type": "execute_result"
    }
   ],
   "source": [
    "l1 = len(tablaAP1)\n",
    "GInfor1 = H\n",
    "for v in tablaAP1.Presion.unique():\n",
    "    Class1 = tablaAP1.loc[tablaAP.Presion == v]\n",
    "    GInfor1 -= (len(Class1)/l1)*entropy(Class1.iloc[:, -1].value_counts(normalize=True), base = 2)\n",
    "GInfor1"
   ]
  },
  {
   "cell_type": "code",
   "execution_count": 46,
   "id": "525566fe",
   "metadata": {},
   "outputs": [
    {
     "data": {
      "text/html": [
       "<div>\n",
       "<style scoped>\n",
       "    .dataframe tbody tr th:only-of-type {\n",
       "        vertical-align: middle;\n",
       "    }\n",
       "\n",
       "    .dataframe tbody tr th {\n",
       "        vertical-align: top;\n",
       "    }\n",
       "\n",
       "    .dataframe thead th {\n",
       "        text-align: right;\n",
       "    }\n",
       "</style>\n",
       "<table border=\"1\" class=\"dataframe\">\n",
       "  <thead>\n",
       "    <tr style=\"text-align: right;\">\n",
       "      <th></th>\n",
       "      <th>Presion</th>\n",
       "      <th>Clase</th>\n",
       "    </tr>\n",
       "  </thead>\n",
       "  <tbody>\n",
       "    <tr>\n",
       "      <th>0</th>\n",
       "      <td>40</td>\n",
       "      <td>+</td>\n",
       "    </tr>\n",
       "    <tr>\n",
       "      <th>1</th>\n",
       "      <td>48</td>\n",
       "      <td>+</td>\n",
       "    </tr>\n",
       "    <tr>\n",
       "      <th>2</th>\n",
       "      <td>60</td>\n",
       "      <td>-</td>\n",
       "    </tr>\n",
       "    <tr>\n",
       "      <th>3</th>\n",
       "      <td>72</td>\n",
       "      <td>-</td>\n",
       "    </tr>\n",
       "    <tr>\n",
       "      <th>4</th>\n",
       "      <td>80</td>\n",
       "      <td>-</td>\n",
       "    </tr>\n",
       "    <tr>\n",
       "      <th>5</th>\n",
       "      <td>90</td>\n",
       "      <td>+</td>\n",
       "    </tr>\n",
       "  </tbody>\n",
       "</table>\n",
       "</div>"
      ],
      "text/plain": [
       "   Presion Clase\n",
       "0       40     +\n",
       "1       48     +\n",
       "2       60     -\n",
       "3       72     -\n",
       "4       80     -\n",
       "5       90     +"
      ]
     },
     "execution_count": 46,
     "metadata": {},
     "output_type": "execute_result"
    }
   ],
   "source": [
    "tablaAP.Presion = [40, 48, 60, 72, 80, 90]\n",
    "tablaAP"
   ]
  },
  {
   "cell_type": "code",
   "execution_count": 47,
   "id": "27c98a50",
   "metadata": {},
   "outputs": [
    {
     "data": {
      "text/html": [
       "<div>\n",
       "<style scoped>\n",
       "    .dataframe tbody tr th:only-of-type {\n",
       "        vertical-align: middle;\n",
       "    }\n",
       "\n",
       "    .dataframe tbody tr th {\n",
       "        vertical-align: top;\n",
       "    }\n",
       "\n",
       "    .dataframe thead th {\n",
       "        text-align: right;\n",
       "    }\n",
       "</style>\n",
       "<table border=\"1\" class=\"dataframe\">\n",
       "  <thead>\n",
       "    <tr style=\"text-align: right;\">\n",
       "      <th></th>\n",
       "      <th>Presion</th>\n",
       "      <th>Clase</th>\n",
       "    </tr>\n",
       "  </thead>\n",
       "  <tbody>\n",
       "    <tr>\n",
       "      <th>0</th>\n",
       "      <td>0</td>\n",
       "      <td>+</td>\n",
       "    </tr>\n",
       "    <tr>\n",
       "      <th>1</th>\n",
       "      <td>0</td>\n",
       "      <td>+</td>\n",
       "    </tr>\n",
       "    <tr>\n",
       "      <th>2</th>\n",
       "      <td>0</td>\n",
       "      <td>-</td>\n",
       "    </tr>\n",
       "    <tr>\n",
       "      <th>3</th>\n",
       "      <td>0</td>\n",
       "      <td>-</td>\n",
       "    </tr>\n",
       "    <tr>\n",
       "      <th>4</th>\n",
       "      <td>0</td>\n",
       "      <td>-</td>\n",
       "    </tr>\n",
       "    <tr>\n",
       "      <th>5</th>\n",
       "      <td>1</td>\n",
       "      <td>+</td>\n",
       "    </tr>\n",
       "  </tbody>\n",
       "</table>\n",
       "</div>"
      ],
      "text/plain": [
       "   Presion Clase\n",
       "0        0     +\n",
       "1        0     +\n",
       "2        0     -\n",
       "3        0     -\n",
       "4        0     -\n",
       "5        1     +"
      ]
     },
     "execution_count": 47,
     "metadata": {},
     "output_type": "execute_result"
    }
   ],
   "source": [
    "tablaAP2 = tablaAP\n",
    "tablaAP2.Presion = np.digitize(tablaAP.Presion, bins = [(80 + 90) / 2])\n",
    "tablaAP2"
   ]
  },
  {
   "cell_type": "code",
   "execution_count": 48,
   "id": "7931e543",
   "metadata": {},
   "outputs": [
    {
     "data": {
      "text/plain": [
       "0.19087450462110933"
      ]
     },
     "execution_count": 48,
     "metadata": {},
     "output_type": "execute_result"
    }
   ],
   "source": [
    "l2 = len(tablaAP2)\n",
    "GInfor2 = H\n",
    "for v in tablaAP2.Presion.unique():\n",
    "    Class2 = tablaAP2.loc[tablaAP2.Presion == v]\n",
    "    GInfor2 -= (len(Class2) / l2) * entropy(Class2.iloc[:, -1].value_counts(normalize = True), base = 2)\n",
    "GInfor2"
   ]
  },
  {
   "cell_type": "markdown",
   "id": "e6ecdc74",
   "metadata": {},
   "source": [
    "Despues de hallar GInfor1 y GInfor2 se observa que GInfor1 > GInfor2, por ello se escoge la primera cota de digitalización (Presión = 54)"
   ]
  },
  {
   "cell_type": "markdown",
   "id": "6a722fb7",
   "metadata": {},
   "source": [
    "# Comprobar que usando discretizacion basada en la entropia obtiene el mismo resultado"
   ]
  },
  {
   "cell_type": "code",
   "execution_count": 49,
   "id": "ddc7d61e",
   "metadata": {},
   "outputs": [
    {
     "data": {
      "text/html": [
       "<div>\n",
       "<style scoped>\n",
       "    .dataframe tbody tr th:only-of-type {\n",
       "        vertical-align: middle;\n",
       "    }\n",
       "\n",
       "    .dataframe tbody tr th {\n",
       "        vertical-align: top;\n",
       "    }\n",
       "\n",
       "    .dataframe thead th {\n",
       "        text-align: right;\n",
       "    }\n",
       "</style>\n",
       "<table border=\"1\" class=\"dataframe\">\n",
       "  <thead>\n",
       "    <tr style=\"text-align: right;\">\n",
       "      <th></th>\n",
       "      <th>Presion</th>\n",
       "      <th>Clase</th>\n",
       "    </tr>\n",
       "  </thead>\n",
       "  <tbody>\n",
       "    <tr>\n",
       "      <th>0</th>\n",
       "      <td>40</td>\n",
       "      <td>+</td>\n",
       "    </tr>\n",
       "    <tr>\n",
       "      <th>1</th>\n",
       "      <td>48</td>\n",
       "      <td>+</td>\n",
       "    </tr>\n",
       "    <tr>\n",
       "      <th>2</th>\n",
       "      <td>60</td>\n",
       "      <td>-</td>\n",
       "    </tr>\n",
       "    <tr>\n",
       "      <th>3</th>\n",
       "      <td>72</td>\n",
       "      <td>-</td>\n",
       "    </tr>\n",
       "    <tr>\n",
       "      <th>4</th>\n",
       "      <td>80</td>\n",
       "      <td>-</td>\n",
       "    </tr>\n",
       "    <tr>\n",
       "      <th>5</th>\n",
       "      <td>90</td>\n",
       "      <td>+</td>\n",
       "    </tr>\n",
       "  </tbody>\n",
       "</table>\n",
       "</div>"
      ],
      "text/plain": [
       "   Presion Clase\n",
       "0       40     +\n",
       "1       48     +\n",
       "2       60     -\n",
       "3       72     -\n",
       "4       80     -\n",
       "5       90     +"
      ]
     },
     "execution_count": 49,
     "metadata": {},
     "output_type": "execute_result"
    }
   ],
   "source": [
    "tablaAP.Presion = [40, 48, 60, 72, 80, 90]\n",
    "tablaAP\n"
   ]
  },
  {
   "cell_type": "code",
   "execution_count": 50,
   "id": "d343ace4",
   "metadata": {},
   "outputs": [],
   "source": [
    "clf = DecisionTreeClassifier(max_leaf_nodes=2,criterion = 'entropy')"
   ]
  },
  {
   "cell_type": "code",
   "execution_count": 51,
   "id": "81e95f32",
   "metadata": {},
   "outputs": [
    {
     "data": {
      "text/plain": [
       "DecisionTreeClassifier(ccp_alpha=0.0, class_weight=None, criterion='entropy',\n",
       "                       max_depth=None, max_features=None, max_leaf_nodes=2,\n",
       "                       min_impurity_decrease=0.0, min_impurity_split=None,\n",
       "                       min_samples_leaf=1, min_samples_split=2,\n",
       "                       min_weight_fraction_leaf=0.0, presort='deprecated',\n",
       "                       random_state=None, splitter='best')"
      ]
     },
     "execution_count": 51,
     "metadata": {},
     "output_type": "execute_result"
    }
   ],
   "source": [
    "clf.fit(np.array(tablaAP['Presion']).reshape(-1, 1), tablaAP.Clase)"
   ]
  },
  {
   "cell_type": "code",
   "execution_count": 52,
   "id": "c8c64aa5",
   "metadata": {},
   "outputs": [
    {
     "name": "stdout",
     "output_type": "stream",
     "text": [
      "|--- Presion <= 54.00\n",
      "|   |--- class: +\n",
      "|--- Presion >  54.00\n",
      "|   |--- class: -\n",
      "\n"
     ]
    }
   ],
   "source": [
    "txt = export_text(clf, feature_names=['Presion'])\n",
    "print(txt)"
   ]
  },
  {
   "cell_type": "code",
   "execution_count": 53,
   "id": "2a3ea850",
   "metadata": {},
   "outputs": [],
   "source": [
    "export_graphviz(decision_tree=clf, out_file='Presion.dot', class_names= tablaAP.Clase)"
   ]
  },
  {
   "cell_type": "code",
   "execution_count": 54,
   "id": "713a35d5",
   "metadata": {},
   "outputs": [],
   "source": [
    "!dot Presion.dot -Tpng -o arbol_presion.png"
   ]
  },
  {
   "cell_type": "markdown",
   "id": "bd7e2b49",
   "metadata": {},
   "source": [
    "<img src='arbol_presion.png'>"
   ]
  },
  {
   "cell_type": "markdown",
   "id": "b48b2bde",
   "metadata": {},
   "source": [
    "# -------------------------------------------------------------------------"
   ]
  },
  {
   "cell_type": "markdown",
   "id": "96ed7d4a",
   "metadata": {},
   "source": [
    "# PARTE 2 (WEKA)"
   ]
  },
  {
   "cell_type": "markdown",
   "id": "c44d64ac",
   "metadata": {},
   "source": [
    "## Pregunta 1\n"
   ]
  },
  {
   "cell_type": "markdown",
   "id": "ec0b5e53",
   "metadata": {},
   "source": [
    "La razón por la que no se puede aplicar directamente ID3, es porque existen algunos atributos como son AGE, PRE4, PRE5 que contienen valores numericos (valores continuos)"
   ]
  },
  {
   "cell_type": "markdown",
   "id": "cd35b84a",
   "metadata": {},
   "source": [
    "# -------------------------------------------------------------------------"
   ]
  },
  {
   "cell_type": "markdown",
   "id": "ad4d0c4d",
   "metadata": {},
   "source": [
    "## Pregunta 2"
   ]
  },
  {
   "cell_type": "markdown",
   "id": "e08ca19d",
   "metadata": {},
   "source": [
    "<img src='Prescindibles.png'>"
   ]
  },
  {
   "cell_type": "markdown",
   "id": "e7a7dee2",
   "metadata": {},
   "source": [
    "Se puede saber que atributos no son necesarios o se puede prescindir de ellos en WEKA, para ello, una vez cargado el archivo tienes que ir al apartado de Select Atributes, en la parte de Attribute Evaluator seleccionar InfoGainAttributeEval, el atributo que hay que elegir para clasificarlo bien es de abajo (Risk1Yr) y le damos a start, como podemos observar en la foto de color azul existen 3 atributos con 0 en ganancia por tanto los atributos de los que se puede prescindir son PRE4 ,AGE Y PRE5"
   ]
  },
  {
   "cell_type": "code",
   "execution_count": 55,
   "id": "3f9bd9ba",
   "metadata": {
    "scrolled": false
   },
   "outputs": [
    {
     "data": {
      "text/html": [
       "<div>\n",
       "<style scoped>\n",
       "    .dataframe tbody tr th:only-of-type {\n",
       "        vertical-align: middle;\n",
       "    }\n",
       "\n",
       "    .dataframe tbody tr th {\n",
       "        vertical-align: top;\n",
       "    }\n",
       "\n",
       "    .dataframe thead th {\n",
       "        text-align: right;\n",
       "    }\n",
       "</style>\n",
       "<table border=\"1\" class=\"dataframe\">\n",
       "  <thead>\n",
       "    <tr style=\"text-align: right;\">\n",
       "      <th></th>\n",
       "      <th>DGN</th>\n",
       "      <th>PRE4</th>\n",
       "      <th>PRE5</th>\n",
       "      <th>PRE6</th>\n",
       "      <th>PRE7</th>\n",
       "      <th>PRE8</th>\n",
       "      <th>PRE9</th>\n",
       "      <th>PRE10</th>\n",
       "      <th>PRE11</th>\n",
       "      <th>PRE14</th>\n",
       "      <th>PRE17</th>\n",
       "      <th>PRE19</th>\n",
       "      <th>PRE25</th>\n",
       "      <th>PRE30</th>\n",
       "      <th>PRE32</th>\n",
       "      <th>AGE</th>\n",
       "      <th>Risk1Yr</th>\n",
       "    </tr>\n",
       "  </thead>\n",
       "  <tbody>\n",
       "    <tr>\n",
       "      <th>0</th>\n",
       "      <td>DGN2</td>\n",
       "      <td>2.88</td>\n",
       "      <td>2.16</td>\n",
       "      <td>PRZ1</td>\n",
       "      <td>F</td>\n",
       "      <td>F</td>\n",
       "      <td>F</td>\n",
       "      <td>T</td>\n",
       "      <td>T</td>\n",
       "      <td>OC14</td>\n",
       "      <td>F</td>\n",
       "      <td>F</td>\n",
       "      <td>F</td>\n",
       "      <td>T</td>\n",
       "      <td>F</td>\n",
       "      <td>60</td>\n",
       "      <td>F</td>\n",
       "    </tr>\n",
       "    <tr>\n",
       "      <th>1</th>\n",
       "      <td>DGN3</td>\n",
       "      <td>3.40</td>\n",
       "      <td>1.88</td>\n",
       "      <td>PRZ0</td>\n",
       "      <td>F</td>\n",
       "      <td>F</td>\n",
       "      <td>F</td>\n",
       "      <td>F</td>\n",
       "      <td>F</td>\n",
       "      <td>OC12</td>\n",
       "      <td>F</td>\n",
       "      <td>F</td>\n",
       "      <td>F</td>\n",
       "      <td>T</td>\n",
       "      <td>F</td>\n",
       "      <td>51</td>\n",
       "      <td>F</td>\n",
       "    </tr>\n",
       "    <tr>\n",
       "      <th>2</th>\n",
       "      <td>DGN3</td>\n",
       "      <td>2.76</td>\n",
       "      <td>2.08</td>\n",
       "      <td>PRZ1</td>\n",
       "      <td>F</td>\n",
       "      <td>F</td>\n",
       "      <td>F</td>\n",
       "      <td>T</td>\n",
       "      <td>F</td>\n",
       "      <td>OC11</td>\n",
       "      <td>F</td>\n",
       "      <td>F</td>\n",
       "      <td>F</td>\n",
       "      <td>T</td>\n",
       "      <td>F</td>\n",
       "      <td>59</td>\n",
       "      <td>F</td>\n",
       "    </tr>\n",
       "    <tr>\n",
       "      <th>3</th>\n",
       "      <td>DGN3</td>\n",
       "      <td>3.68</td>\n",
       "      <td>3.04</td>\n",
       "      <td>PRZ0</td>\n",
       "      <td>F</td>\n",
       "      <td>F</td>\n",
       "      <td>F</td>\n",
       "      <td>F</td>\n",
       "      <td>F</td>\n",
       "      <td>OC11</td>\n",
       "      <td>F</td>\n",
       "      <td>F</td>\n",
       "      <td>F</td>\n",
       "      <td>F</td>\n",
       "      <td>F</td>\n",
       "      <td>54</td>\n",
       "      <td>F</td>\n",
       "    </tr>\n",
       "    <tr>\n",
       "      <th>4</th>\n",
       "      <td>DGN3</td>\n",
       "      <td>2.44</td>\n",
       "      <td>0.96</td>\n",
       "      <td>PRZ2</td>\n",
       "      <td>F</td>\n",
       "      <td>T</td>\n",
       "      <td>F</td>\n",
       "      <td>T</td>\n",
       "      <td>T</td>\n",
       "      <td>OC11</td>\n",
       "      <td>F</td>\n",
       "      <td>F</td>\n",
       "      <td>F</td>\n",
       "      <td>T</td>\n",
       "      <td>F</td>\n",
       "      <td>73</td>\n",
       "      <td>T</td>\n",
       "    </tr>\n",
       "    <tr>\n",
       "      <th>...</th>\n",
       "      <td>...</td>\n",
       "      <td>...</td>\n",
       "      <td>...</td>\n",
       "      <td>...</td>\n",
       "      <td>...</td>\n",
       "      <td>...</td>\n",
       "      <td>...</td>\n",
       "      <td>...</td>\n",
       "      <td>...</td>\n",
       "      <td>...</td>\n",
       "      <td>...</td>\n",
       "      <td>...</td>\n",
       "      <td>...</td>\n",
       "      <td>...</td>\n",
       "      <td>...</td>\n",
       "      <td>...</td>\n",
       "      <td>...</td>\n",
       "    </tr>\n",
       "    <tr>\n",
       "      <th>465</th>\n",
       "      <td>DGN2</td>\n",
       "      <td>3.88</td>\n",
       "      <td>2.12</td>\n",
       "      <td>PRZ1</td>\n",
       "      <td>F</td>\n",
       "      <td>F</td>\n",
       "      <td>F</td>\n",
       "      <td>T</td>\n",
       "      <td>F</td>\n",
       "      <td>OC13</td>\n",
       "      <td>F</td>\n",
       "      <td>F</td>\n",
       "      <td>F</td>\n",
       "      <td>T</td>\n",
       "      <td>F</td>\n",
       "      <td>63</td>\n",
       "      <td>F</td>\n",
       "    </tr>\n",
       "    <tr>\n",
       "      <th>466</th>\n",
       "      <td>DGN3</td>\n",
       "      <td>3.76</td>\n",
       "      <td>3.12</td>\n",
       "      <td>PRZ0</td>\n",
       "      <td>F</td>\n",
       "      <td>F</td>\n",
       "      <td>F</td>\n",
       "      <td>F</td>\n",
       "      <td>F</td>\n",
       "      <td>OC11</td>\n",
       "      <td>F</td>\n",
       "      <td>F</td>\n",
       "      <td>F</td>\n",
       "      <td>T</td>\n",
       "      <td>F</td>\n",
       "      <td>61</td>\n",
       "      <td>F</td>\n",
       "    </tr>\n",
       "    <tr>\n",
       "      <th>467</th>\n",
       "      <td>DGN3</td>\n",
       "      <td>3.04</td>\n",
       "      <td>2.08</td>\n",
       "      <td>PRZ1</td>\n",
       "      <td>F</td>\n",
       "      <td>F</td>\n",
       "      <td>F</td>\n",
       "      <td>T</td>\n",
       "      <td>F</td>\n",
       "      <td>OC13</td>\n",
       "      <td>F</td>\n",
       "      <td>F</td>\n",
       "      <td>F</td>\n",
       "      <td>F</td>\n",
       "      <td>F</td>\n",
       "      <td>52</td>\n",
       "      <td>F</td>\n",
       "    </tr>\n",
       "    <tr>\n",
       "      <th>468</th>\n",
       "      <td>DGN3</td>\n",
       "      <td>1.96</td>\n",
       "      <td>1.68</td>\n",
       "      <td>PRZ1</td>\n",
       "      <td>F</td>\n",
       "      <td>F</td>\n",
       "      <td>F</td>\n",
       "      <td>T</td>\n",
       "      <td>T</td>\n",
       "      <td>OC12</td>\n",
       "      <td>F</td>\n",
       "      <td>F</td>\n",
       "      <td>F</td>\n",
       "      <td>T</td>\n",
       "      <td>F</td>\n",
       "      <td>79</td>\n",
       "      <td>F</td>\n",
       "    </tr>\n",
       "    <tr>\n",
       "      <th>469</th>\n",
       "      <td>DGN3</td>\n",
       "      <td>4.72</td>\n",
       "      <td>3.56</td>\n",
       "      <td>PRZ0</td>\n",
       "      <td>F</td>\n",
       "      <td>F</td>\n",
       "      <td>F</td>\n",
       "      <td>F</td>\n",
       "      <td>F</td>\n",
       "      <td>OC12</td>\n",
       "      <td>F</td>\n",
       "      <td>F</td>\n",
       "      <td>F</td>\n",
       "      <td>T</td>\n",
       "      <td>F</td>\n",
       "      <td>51</td>\n",
       "      <td>F</td>\n",
       "    </tr>\n",
       "  </tbody>\n",
       "</table>\n",
       "<p>470 rows × 17 columns</p>\n",
       "</div>"
      ],
      "text/plain": [
       "      DGN  PRE4  PRE5  PRE6 PRE7 PRE8 PRE9 PRE10 PRE11 PRE14 PRE17 PRE19  \\\n",
       "0    DGN2  2.88  2.16  PRZ1    F    F    F     T     T  OC14     F     F   \n",
       "1    DGN3  3.40  1.88  PRZ0    F    F    F     F     F  OC12     F     F   \n",
       "2    DGN3  2.76  2.08  PRZ1    F    F    F     T     F  OC11     F     F   \n",
       "3    DGN3  3.68  3.04  PRZ0    F    F    F     F     F  OC11     F     F   \n",
       "4    DGN3  2.44  0.96  PRZ2    F    T    F     T     T  OC11     F     F   \n",
       "..    ...   ...   ...   ...  ...  ...  ...   ...   ...   ...   ...   ...   \n",
       "465  DGN2  3.88  2.12  PRZ1    F    F    F     T     F  OC13     F     F   \n",
       "466  DGN3  3.76  3.12  PRZ0    F    F    F     F     F  OC11     F     F   \n",
       "467  DGN3  3.04  2.08  PRZ1    F    F    F     T     F  OC13     F     F   \n",
       "468  DGN3  1.96  1.68  PRZ1    F    F    F     T     T  OC12     F     F   \n",
       "469  DGN3  4.72  3.56  PRZ0    F    F    F     F     F  OC12     F     F   \n",
       "\n",
       "    PRE25 PRE30 PRE32  AGE Risk1Yr  \n",
       "0       F     T     F   60       F  \n",
       "1       F     T     F   51       F  \n",
       "2       F     T     F   59       F  \n",
       "3       F     F     F   54       F  \n",
       "4       F     T     F   73       T  \n",
       "..    ...   ...   ...  ...     ...  \n",
       "465     F     T     F   63       F  \n",
       "466     F     T     F   61       F  \n",
       "467     F     F     F   52       F  \n",
       "468     F     T     F   79       F  \n",
       "469     F     T     F   51       F  \n",
       "\n",
       "[470 rows x 17 columns]"
      ]
     },
     "execution_count": 55,
     "metadata": {},
     "output_type": "execute_result"
    }
   ],
   "source": [
    "tablaTS = pd.read_csv('ThoraricSurgery.csv')\n",
    "tablaTS"
   ]
  },
  {
   "cell_type": "code",
   "execution_count": 56,
   "id": "542a4271",
   "metadata": {},
   "outputs": [],
   "source": [
    "with open('ThoraricSurgery.txt') as file:\n",
    "    ficheroTxt= file.read()"
   ]
  },
  {
   "cell_type": "code",
   "execution_count": 57,
   "id": "51c82cdc",
   "metadata": {
    "scrolled": true
   },
   "outputs": [
    {
     "data": {
      "text/plain": [
       "'PRE9 = F\\n|   PRE17 = F\\n|   |   DGN = DGN2\\n|   |   |   PRE30 = T\\n|   |   |   |   PRE10 = T\\n|   |   |   |   |   PRE6 = PRZ1\\n|   |   |   |   |   |   PRE14 = OC14: F (3.0)\\n|   |   |   |   |   |   PRE14 = OC12\\n|   |   |   |   |   |   |   PRE8 = F: T (6.0/2.0)\\n|   |   |   |   |   |   |   PRE8 = T: F (6.0/1.0)\\n|   |   |   |   |   |   PRE14 = OC11: F (5.0/1.0)\\n|   |   |   |   |   |   PRE14 = OC13: F (2.0)\\n|   |   |   |   |   PRE6 = PRZ0: T (2.0)\\n|   |   |   |   |   PRE6 = PRZ2: F (4.0/1.0)\\n|   |   |   |   PRE10 = F: F (10.0/1.0)\\n|   |   |   PRE30 = F: F (6.0)\\n|   |   DGN = DGN3\\n|   |   |   PRE7 = F\\n|   |   |   |   PRE14 = OC14: F (7.0/3.0)\\n|   |   |   |   PRE14 = OC12\\n|   |   |   |   |   PRE30 = T\\n|   |   |   |   |   |   PRE10 = T\\n|   |   |   |   |   |   |   PRE6 = PRZ1\\n|   |   |   |   |   |   |   |   PRE25 = F\\n|   |   |   |   |   |   |   |   |   PRE11 = T: F (16.0/1.0)\\n|   |   |   |   |   |   |   |   |   PRE11 = F\\n|   |   |   |   |   |   |   |   |   |   PRE8 = F: F (67.0/10.0)\\n|   |   |   |   |   |   |   |   |   |   PRE8 = T\\n|   |   |   |   |   |   |   |   |   |   |   PRE4 <= 2.88: T (3.0/1.0)\\n|   |   |   |   |   |   |   |   |   |   |   PRE4 > 2.88: F (4.0)\\n|   |   |   |   |   |   |   |   PRE25 = T: F (2.0)\\n|   |   |   |   |   |   |   PRE6 = PRZ0: F (2.0)\\n|   |   |   |   |   |   |   PRE6 = PRZ2: F (4.0)\\n|   |   |   |   |   |   PRE10 = F: F (30.0/1.0)\\n|   |   |   |   |   PRE30 = F: F (22.0)\\n|   |   |   |   PRE14 = OC11: F (121.0/7.0)\\n|   |   |   |   PRE14 = OC13: F (6.0/2.0)\\n|   |   |   PRE7 = T\\n|   |   |   |   PRE10 = T: F (13.0/2.0)\\n|   |   |   |   PRE10 = F\\n|   |   |   |   |   PRE14 = OC14: T (1.0)\\n|   |   |   |   |   PRE14 = OC12: T (2.0)\\n|   |   |   |   |   PRE14 = OC11: F (2.0)\\n|   |   |   |   |   PRE14 = OC13: T (0.0)\\n|   |   DGN = DGN4\\n|   |   |   PRE11 = T\\n|   |   |   |   PRE4 <= 2.66: T (3.0/1.0)\\n|   |   |   |   PRE4 > 2.66: F (2.0)\\n|   |   |   PRE11 = F\\n|   |   |   |   PRE14 = OC14: F (0.0)\\n|   |   |   |   PRE14 = OC12\\n|   |   |   |   |   PRE5 <= 2.04\\n|   |   |   |   |   |   AGE <= 70: T (3.0/1.0)\\n|   |   |   |   |   |   AGE > 70: F (2.0)\\n|   |   |   |   |   PRE5 > 2.04: F (19.0)\\n|   |   |   |   PRE14 = OC11: F (10.0)\\n|   |   |   |   PRE14 = OC13: F (1.0)\\n|   |   DGN = DGN8: F (2.0/1.0)\\n|   |   DGN = DGN5\\n|   |   |   PRE8 = F\\n|   |   |   |   PRE14 = OC14: T (0.0)\\n|   |   |   |   PRE14 = OC12: F (3.0/1.0)\\n|   |   |   |   PRE14 = OC11\\n|   |   |   |   |   PRE10 = T: T (2.0)\\n|   |   |   |   |   PRE10 = F: F (3.0/1.0)\\n|   |   |   |   PRE14 = OC13: T (1.0)\\n|   |   |   PRE8 = T: F (3.0)\\n|   |   DGN = DGN6: F (4.0)\\n|   |   DGN = DGN1: F (1.0)\\n|   PRE17 = T\\n|   |   PRE8 = F\\n|   |   |   AGE <= 65\\n|   |   |   |   PRE11 = T: T (3.0)\\n|   |   |   |   PRE11 = F\\n|   |   |   |   |   PRE14 = OC14: T (1.0)\\n|   |   |   |   |   PRE14 = OC12\\n|   |   |   |   |   |   AGE <= 62: F (7.0/1.0)\\n|   |   |   |   |   |   AGE > 62: T (2.0)\\n|   |   |   |   |   PRE14 = OC11: F (5.0)\\n|   |   |   |   |   PRE14 = OC13: F (0.0)\\n|   |   |   AGE > 65: F (12.0)\\n|   |   PRE8 = T: T (4.0/1.0)\\nPRE9 = T\\n|   PRE11 = T: T (2.0)\\n|   PRE11 = F\\n|   |   PRE6 = PRZ1\\n|   |   |   PRE10 = T\\n|   |   |   |   PRE7 = F\\n|   |   |   |   |   PRE8 = F: F (11.0)\\n|   |   |   |   |   PRE8 = T\\n|   |   |   |   |   |   DGN = DGN2: F (2.0)\\n|   |   |   |   |   |   DGN = DGN3: T (3.0/1.0)\\n|   |   |   |   |   |   DGN = DGN4: F (0.0)\\n|   |   |   |   |   |   DGN = DGN8: F (0.0)\\n|   |   |   |   |   |   DGN = DGN5: F (0.0)\\n|   |   |   |   |   |   DGN = DGN6: F (0.0)\\n|   |   |   |   |   |   DGN = DGN1: F (0.0)\\n|   |   |   |   PRE7 = T: F (2.0/1.0)\\n|   |   |   PRE10 = F: F (5.0)\\n|   |   PRE6 = PRZ0: T (4.0/1.0)\\n|   |   PRE6 = PRZ2: F (2.0/1.0)\\n'"
      ]
     },
     "execution_count": 57,
     "metadata": {},
     "output_type": "execute_result"
    }
   ],
   "source": [
    "ficheroTxt\n"
   ]
  },
  {
   "cell_type": "code",
   "execution_count": 58,
   "id": "af250c10",
   "metadata": {},
   "outputs": [
    {
     "name": "stdout",
     "output_type": "stream",
     "text": [
      "PRE19  ---> Este atributo no se utiliza\n",
      "PRE32  ---> Este atributo no se utiliza\n",
      "Risk1Yr  ---> Este atributo no se utiliza\n"
     ]
    }
   ],
   "source": [
    "# Ahora hay que recorrer las columnas de la tabla csv y comprobar si está y toma valor -1 en el txt \n",
    "# que hemos obtenido de weka\n",
    "\n",
    "for f in tablaTS.columns:\n",
    "    if ficheroTxt.find(f) == -1:\n",
    "        print(f, ' ---> Este atributo no se utiliza')"
   ]
  },
  {
   "cell_type": "markdown",
   "id": "8d482313",
   "metadata": {},
   "source": [
    "## Arbol con weka con todos los atributos"
   ]
  },
  {
   "cell_type": "markdown",
   "id": "3978c7d8",
   "metadata": {},
   "source": [
    "<img src=\"j48_allatributes.png\">"
   ]
  },
  {
   "cell_type": "markdown",
   "id": "f1f2f4b0",
   "metadata": {},
   "source": [
    "## Arbol con weka prescindiendo de PRE19 y PRE32 "
   ]
  },
  {
   "cell_type": "markdown",
   "id": "1fa3f301",
   "metadata": {},
   "source": [
    "<img src=\"arbol_j48atributoseliminados.png\">"
   ]
  },
  {
   "cell_type": "markdown",
   "id": "d049ec4e",
   "metadata": {},
   "source": [
    "# -------------------------------------------------------------------------"
   ]
  },
  {
   "cell_type": "markdown",
   "id": "0258ab8c",
   "metadata": {},
   "source": [
    "## Pregunta 3"
   ]
  },
  {
   "cell_type": "markdown",
   "id": "056977fb",
   "metadata": {},
   "source": [
    "Esto es porque J48 discretiza los valores que son de importancia para el nodo por el cual se llega, \n",
    "es decir, unicamente discretiza los valores relevantes. Sin embargo el otro método que hemos usado no, por tanto,\n",
    "hará un arbol menos eficiente y de peor calidad, puesto que no se centra en los valores que son de importancia\n",
    "para el nodo."
   ]
  },
  {
   "cell_type": "markdown",
   "id": "6784ef01",
   "metadata": {},
   "source": [
    "# ------------------------------------------------------------------------- "
   ]
  },
  {
   "cell_type": "markdown",
   "id": "585b0224",
   "metadata": {},
   "source": [
    "## Pregunta 4\n"
   ]
  },
  {
   "cell_type": "code",
   "execution_count": 59,
   "id": "2f25d9c4",
   "metadata": {},
   "outputs": [
    {
     "name": "stdout",
     "output_type": "stream",
     "text": [
      "PRE4 <=  1078 1086\n",
      "2.88\n",
      "PRE4 <=  1804 1812\n",
      "2.66\n",
      "PRE5 <=  1976 1984\n",
      "2.04\n",
      "AGE <=  2013 2020\n",
      "70.0\n",
      "AGE <=  2627 2634\n",
      "65.0\n",
      "AGE <=  2797 2804\n",
      "62.0\n"
     ]
    }
   ],
   "source": [
    "for atributo in ['PRE4', 'PRE5', 'AGE']:\n",
    "    \n",
    "    array = []\n",
    "\n",
    "    for pos in finditer(atributo+' '+'<= ', ficheroTxt):\n",
    "        \n",
    "        print (atributo+' '+'<= ', pos.start(), pos.end())\n",
    "        \n",
    "        if ficheroTxt[pos.end():].find(':') < ficheroTxt[pos.end():].find('\\n'):\n",
    "            segmento = ficheroTxt[pos.end():].find(':')\n",
    "        else:\n",
    "            segmento = ficheroTxt[pos.end():].find('\\n')\n",
    "            \n",
    "        array.append(float(ficheroTxt[pos.end():pos.end()+segmento]))\n",
    "        print(array[-1])\n",
    "        array.sort()\n",
    "    tablaTS[atributo] = [chr(65+i) for i in np.digitize(tablaTS[atributo], bins=array)]"
   ]
  },
  {
   "cell_type": "code",
   "execution_count": 60,
   "id": "dfdf3603",
   "metadata": {},
   "outputs": [
    {
     "data": {
      "text/plain": [
       "array(['A', 'D', 'C', 'B'], dtype=object)"
      ]
     },
     "execution_count": 60,
     "metadata": {},
     "output_type": "execute_result"
    }
   ],
   "source": [
    "tablaTS.AGE.unique()"
   ]
  },
  {
   "cell_type": "code",
   "execution_count": 61,
   "id": "13461700",
   "metadata": {},
   "outputs": [
    {
     "data": {
      "text/html": [
       "<div>\n",
       "<style scoped>\n",
       "    .dataframe tbody tr th:only-of-type {\n",
       "        vertical-align: middle;\n",
       "    }\n",
       "\n",
       "    .dataframe tbody tr th {\n",
       "        vertical-align: top;\n",
       "    }\n",
       "\n",
       "    .dataframe thead th {\n",
       "        text-align: right;\n",
       "    }\n",
       "</style>\n",
       "<table border=\"1\" class=\"dataframe\">\n",
       "  <thead>\n",
       "    <tr style=\"text-align: right;\">\n",
       "      <th></th>\n",
       "      <th>DGN</th>\n",
       "      <th>PRE4</th>\n",
       "      <th>PRE5</th>\n",
       "      <th>PRE6</th>\n",
       "      <th>PRE7</th>\n",
       "      <th>PRE8</th>\n",
       "      <th>PRE9</th>\n",
       "      <th>PRE10</th>\n",
       "      <th>PRE11</th>\n",
       "      <th>PRE14</th>\n",
       "      <th>PRE17</th>\n",
       "      <th>PRE19</th>\n",
       "      <th>PRE25</th>\n",
       "      <th>PRE30</th>\n",
       "      <th>PRE32</th>\n",
       "      <th>AGE</th>\n",
       "      <th>Risk1Yr</th>\n",
       "    </tr>\n",
       "  </thead>\n",
       "  <tbody>\n",
       "    <tr>\n",
       "      <th>0</th>\n",
       "      <td>DGN2</td>\n",
       "      <td>C</td>\n",
       "      <td>B</td>\n",
       "      <td>PRZ1</td>\n",
       "      <td>F</td>\n",
       "      <td>F</td>\n",
       "      <td>F</td>\n",
       "      <td>T</td>\n",
       "      <td>T</td>\n",
       "      <td>OC14</td>\n",
       "      <td>F</td>\n",
       "      <td>F</td>\n",
       "      <td>F</td>\n",
       "      <td>T</td>\n",
       "      <td>F</td>\n",
       "      <td>A</td>\n",
       "      <td>F</td>\n",
       "    </tr>\n",
       "    <tr>\n",
       "      <th>1</th>\n",
       "      <td>DGN3</td>\n",
       "      <td>C</td>\n",
       "      <td>A</td>\n",
       "      <td>PRZ0</td>\n",
       "      <td>F</td>\n",
       "      <td>F</td>\n",
       "      <td>F</td>\n",
       "      <td>F</td>\n",
       "      <td>F</td>\n",
       "      <td>OC12</td>\n",
       "      <td>F</td>\n",
       "      <td>F</td>\n",
       "      <td>F</td>\n",
       "      <td>T</td>\n",
       "      <td>F</td>\n",
       "      <td>A</td>\n",
       "      <td>F</td>\n",
       "    </tr>\n",
       "    <tr>\n",
       "      <th>2</th>\n",
       "      <td>DGN3</td>\n",
       "      <td>B</td>\n",
       "      <td>B</td>\n",
       "      <td>PRZ1</td>\n",
       "      <td>F</td>\n",
       "      <td>F</td>\n",
       "      <td>F</td>\n",
       "      <td>T</td>\n",
       "      <td>F</td>\n",
       "      <td>OC11</td>\n",
       "      <td>F</td>\n",
       "      <td>F</td>\n",
       "      <td>F</td>\n",
       "      <td>T</td>\n",
       "      <td>F</td>\n",
       "      <td>A</td>\n",
       "      <td>F</td>\n",
       "    </tr>\n",
       "    <tr>\n",
       "      <th>3</th>\n",
       "      <td>DGN3</td>\n",
       "      <td>C</td>\n",
       "      <td>B</td>\n",
       "      <td>PRZ0</td>\n",
       "      <td>F</td>\n",
       "      <td>F</td>\n",
       "      <td>F</td>\n",
       "      <td>F</td>\n",
       "      <td>F</td>\n",
       "      <td>OC11</td>\n",
       "      <td>F</td>\n",
       "      <td>F</td>\n",
       "      <td>F</td>\n",
       "      <td>F</td>\n",
       "      <td>F</td>\n",
       "      <td>A</td>\n",
       "      <td>F</td>\n",
       "    </tr>\n",
       "    <tr>\n",
       "      <th>4</th>\n",
       "      <td>DGN3</td>\n",
       "      <td>A</td>\n",
       "      <td>A</td>\n",
       "      <td>PRZ2</td>\n",
       "      <td>F</td>\n",
       "      <td>T</td>\n",
       "      <td>F</td>\n",
       "      <td>T</td>\n",
       "      <td>T</td>\n",
       "      <td>OC11</td>\n",
       "      <td>F</td>\n",
       "      <td>F</td>\n",
       "      <td>F</td>\n",
       "      <td>T</td>\n",
       "      <td>F</td>\n",
       "      <td>D</td>\n",
       "      <td>T</td>\n",
       "    </tr>\n",
       "    <tr>\n",
       "      <th>...</th>\n",
       "      <td>...</td>\n",
       "      <td>...</td>\n",
       "      <td>...</td>\n",
       "      <td>...</td>\n",
       "      <td>...</td>\n",
       "      <td>...</td>\n",
       "      <td>...</td>\n",
       "      <td>...</td>\n",
       "      <td>...</td>\n",
       "      <td>...</td>\n",
       "      <td>...</td>\n",
       "      <td>...</td>\n",
       "      <td>...</td>\n",
       "      <td>...</td>\n",
       "      <td>...</td>\n",
       "      <td>...</td>\n",
       "      <td>...</td>\n",
       "    </tr>\n",
       "    <tr>\n",
       "      <th>465</th>\n",
       "      <td>DGN2</td>\n",
       "      <td>C</td>\n",
       "      <td>B</td>\n",
       "      <td>PRZ1</td>\n",
       "      <td>F</td>\n",
       "      <td>F</td>\n",
       "      <td>F</td>\n",
       "      <td>T</td>\n",
       "      <td>F</td>\n",
       "      <td>OC13</td>\n",
       "      <td>F</td>\n",
       "      <td>F</td>\n",
       "      <td>F</td>\n",
       "      <td>T</td>\n",
       "      <td>F</td>\n",
       "      <td>B</td>\n",
       "      <td>F</td>\n",
       "    </tr>\n",
       "    <tr>\n",
       "      <th>466</th>\n",
       "      <td>DGN3</td>\n",
       "      <td>C</td>\n",
       "      <td>B</td>\n",
       "      <td>PRZ0</td>\n",
       "      <td>F</td>\n",
       "      <td>F</td>\n",
       "      <td>F</td>\n",
       "      <td>F</td>\n",
       "      <td>F</td>\n",
       "      <td>OC11</td>\n",
       "      <td>F</td>\n",
       "      <td>F</td>\n",
       "      <td>F</td>\n",
       "      <td>T</td>\n",
       "      <td>F</td>\n",
       "      <td>A</td>\n",
       "      <td>F</td>\n",
       "    </tr>\n",
       "    <tr>\n",
       "      <th>467</th>\n",
       "      <td>DGN3</td>\n",
       "      <td>C</td>\n",
       "      <td>B</td>\n",
       "      <td>PRZ1</td>\n",
       "      <td>F</td>\n",
       "      <td>F</td>\n",
       "      <td>F</td>\n",
       "      <td>T</td>\n",
       "      <td>F</td>\n",
       "      <td>OC13</td>\n",
       "      <td>F</td>\n",
       "      <td>F</td>\n",
       "      <td>F</td>\n",
       "      <td>F</td>\n",
       "      <td>F</td>\n",
       "      <td>A</td>\n",
       "      <td>F</td>\n",
       "    </tr>\n",
       "    <tr>\n",
       "      <th>468</th>\n",
       "      <td>DGN3</td>\n",
       "      <td>A</td>\n",
       "      <td>A</td>\n",
       "      <td>PRZ1</td>\n",
       "      <td>F</td>\n",
       "      <td>F</td>\n",
       "      <td>F</td>\n",
       "      <td>T</td>\n",
       "      <td>T</td>\n",
       "      <td>OC12</td>\n",
       "      <td>F</td>\n",
       "      <td>F</td>\n",
       "      <td>F</td>\n",
       "      <td>T</td>\n",
       "      <td>F</td>\n",
       "      <td>D</td>\n",
       "      <td>F</td>\n",
       "    </tr>\n",
       "    <tr>\n",
       "      <th>469</th>\n",
       "      <td>DGN3</td>\n",
       "      <td>C</td>\n",
       "      <td>B</td>\n",
       "      <td>PRZ0</td>\n",
       "      <td>F</td>\n",
       "      <td>F</td>\n",
       "      <td>F</td>\n",
       "      <td>F</td>\n",
       "      <td>F</td>\n",
       "      <td>OC12</td>\n",
       "      <td>F</td>\n",
       "      <td>F</td>\n",
       "      <td>F</td>\n",
       "      <td>T</td>\n",
       "      <td>F</td>\n",
       "      <td>A</td>\n",
       "      <td>F</td>\n",
       "    </tr>\n",
       "  </tbody>\n",
       "</table>\n",
       "<p>470 rows × 17 columns</p>\n",
       "</div>"
      ],
      "text/plain": [
       "      DGN PRE4 PRE5  PRE6 PRE7 PRE8 PRE9 PRE10 PRE11 PRE14 PRE17 PRE19 PRE25  \\\n",
       "0    DGN2    C    B  PRZ1    F    F    F     T     T  OC14     F     F     F   \n",
       "1    DGN3    C    A  PRZ0    F    F    F     F     F  OC12     F     F     F   \n",
       "2    DGN3    B    B  PRZ1    F    F    F     T     F  OC11     F     F     F   \n",
       "3    DGN3    C    B  PRZ0    F    F    F     F     F  OC11     F     F     F   \n",
       "4    DGN3    A    A  PRZ2    F    T    F     T     T  OC11     F     F     F   \n",
       "..    ...  ...  ...   ...  ...  ...  ...   ...   ...   ...   ...   ...   ...   \n",
       "465  DGN2    C    B  PRZ1    F    F    F     T     F  OC13     F     F     F   \n",
       "466  DGN3    C    B  PRZ0    F    F    F     F     F  OC11     F     F     F   \n",
       "467  DGN3    C    B  PRZ1    F    F    F     T     F  OC13     F     F     F   \n",
       "468  DGN3    A    A  PRZ1    F    F    F     T     T  OC12     F     F     F   \n",
       "469  DGN3    C    B  PRZ0    F    F    F     F     F  OC12     F     F     F   \n",
       "\n",
       "    PRE30 PRE32 AGE Risk1Yr  \n",
       "0       T     F   A       F  \n",
       "1       T     F   A       F  \n",
       "2       T     F   A       F  \n",
       "3       F     F   A       F  \n",
       "4       T     F   D       T  \n",
       "..    ...   ...  ..     ...  \n",
       "465     T     F   B       F  \n",
       "466     T     F   A       F  \n",
       "467     F     F   A       F  \n",
       "468     T     F   D       F  \n",
       "469     T     F   A       F  \n",
       "\n",
       "[470 rows x 17 columns]"
      ]
     },
     "execution_count": 61,
     "metadata": {},
     "output_type": "execute_result"
    }
   ],
   "source": [
    "tablaTS"
   ]
  },
  {
   "cell_type": "code",
   "execution_count": 62,
   "id": "e356680b",
   "metadata": {},
   "outputs": [],
   "source": [
    "tablaTS.to_csv('Thoracic.Nominal.csv', index=False)"
   ]
  },
  {
   "cell_type": "markdown",
   "id": "1e6488cd",
   "metadata": {},
   "source": [
    "Este nuevo arbol ha obtenido mejores resultados durante la fase de test(75,6% de acierto vs 75%).Y los principales motivos por los cuales ha obtenido mejores resultados son, que los intervalos de particionamiento para los atributos numericos, han sido seleccionados de forma optima segun los resultados del algoritmo j48, y porque este arbol recoge todas las posibles combinaciones para cada caso gracias a la discretizacion que hemos realizado. \n",
    "\n",
    "Aunque este ultimo motivo puede producir ventajas o desventajas, en este cso ha sido beneficioso."
   ]
  },
  {
   "cell_type": "markdown",
   "id": "1968ac08",
   "metadata": {},
   "source": [
    "## Arbol con el nuevo particionamiento de los atributos numericos"
   ]
  },
  {
   "cell_type": "markdown",
   "id": "10f11767",
   "metadata": {},
   "source": [
    "<img src=\"arbol_nuevo.png\">"
   ]
  },
  {
   "cell_type": "code",
   "execution_count": null,
   "id": "52b08e74",
   "metadata": {},
   "outputs": [],
   "source": []
  }
 ],
 "metadata": {
  "kernelspec": {
   "display_name": "Python 3 (ipykernel)",
   "language": "python",
   "name": "python3"
  },
  "language_info": {
   "codemirror_mode": {
    "name": "ipython",
    "version": 3
   },
   "file_extension": ".py",
   "mimetype": "text/x-python",
   "name": "python",
   "nbconvert_exporter": "python",
   "pygments_lexer": "ipython3",
   "version": "3.9.7"
  }
 },
 "nbformat": 4,
 "nbformat_minor": 5
}
