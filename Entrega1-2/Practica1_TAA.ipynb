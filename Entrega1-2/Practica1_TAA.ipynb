{
 "cells": [
  {
   "cell_type": "code",
   "execution_count": 1,
   "id": "1a8468a9",
   "metadata": {},
   "outputs": [],
   "source": [
    "import numpy as np\n",
    "from scipy.stats import entropy\n",
    "import pandas as pd\n",
    "from sklearn.datasets import make_blobs\n",
    "from sklearn.preprocessing import MinMaxScaler\n",
    "import matplotlib.pyplot as plt\n",
    "import csv"
   ]
  },
  {
   "cell_type": "code",
   "execution_count": 2,
   "id": "2d88f309",
   "metadata": {},
   "outputs": [
    {
     "name": "stdout",
     "output_type": "stream",
     "text": [
      "     outlook temperature humidity  windy play\n",
      "0      sunny         hot     high  False   no\n",
      "1      sunny         hot     high   True   no\n",
      "2   overcast         hot     high  False  yes\n",
      "3      rainy        mild     high  False  yes\n",
      "4      rainy        cool   normal  False  yes\n",
      "5      rainy        cool   normal   True   no\n",
      "6   overcast        cool   normal   True  yes\n",
      "7      sunny        mild     high  False   no\n",
      "8      sunny        cool   normal  False  yes\n",
      "9      rainy        mild   normal  False  yes\n",
      "10     sunny        mild   normal   True  yes\n",
      "11  overcast        mild     high   True  yes\n",
      "12  overcast         hot   normal  False  yes\n",
      "13     rainy        mild     high   True   no\n"
     ]
    }
   ],
   "source": [
    "tabla = pd.read_csv('weather.nominal.csv', header=0)\n",
    "print(tabla)"
   ]
  },
  {
   "cell_type": "code",
   "execution_count": 3,
   "id": "19ff18e6",
   "metadata": {},
   "outputs": [
    {
     "name": "stdout",
     "output_type": "stream",
     "text": [
      "0.940285958670631\n"
     ]
    }
   ],
   "source": [
    "H = entropy(tabla.iloc[:, -1].value_counts(normalize=True), base=2)\n",
    "print(H)"
   ]
  },
  {
   "cell_type": "code",
   "execution_count": 4,
   "id": "a7b190f4",
   "metadata": {},
   "outputs": [
    {
     "data": {
      "text/plain": [
       "[0.246749819774439,\n",
       " 0.029222565658954758,\n",
       " 0.15183550136234159,\n",
       " 0.04812703040826943]"
      ]
     },
     "execution_count": 4,
     "metadata": {},
     "output_type": "execute_result"
    }
   ],
   "source": [
    "G = []\n",
    "l = len(tabla)\n",
    "for atributo in tabla.columns[:-1]:\n",
    "    G.append(H)\n",
    "    for v in tabla[atributo].unique():\n",
    "        table = tabla.loc[tabla[atributo] == v]\n",
    "        G[-1] -= (len(table)/l)*entropy(table.iloc[:, -1].value_counts(normalize=True), base=2)\n",
    "G"
   ]
  },
  {
   "cell_type": "code",
   "execution_count": 5,
   "id": "5b74b2bb",
   "metadata": {},
   "outputs": [
    {
     "name": "stdout",
     "output_type": "stream",
     "text": [
      "Ganancia MAXIMA en Información (Entropía) =    - outlook -\n"
     ]
    }
   ],
   "source": [
    "print(\"Ganancia MAXIMA en Información (Entropía) =    -\", tabla.columns[np.argmax(G)], \"-\")"
   ]
  },
  {
   "cell_type": "code",
   "execution_count": 6,
   "id": "15fd2325",
   "metadata": {},
   "outputs": [
    {
     "data": {
      "text/plain": [
       "(0.4591836734693877,\n",
       " [0.11632653061224485,\n",
       "  0.018707482993197258,\n",
       "  0.09183673469387743,\n",
       "  0.030612244897959162])"
      ]
     },
     "execution_count": 6,
     "metadata": {},
     "output_type": "execute_result"
    }
   ],
   "source": [
    "Gi = []\n",
    "G_Gini = 1-sum(tabla.iloc[:,-1].value_counts(normalize=True)**2)\n",
    "l = len(tabla)\n",
    "for atributo in tabla.columns[:-1]:\n",
    "    Gi.append(G_Gini)\n",
    "    for v in tabla[atributo].unique():\n",
    "        table = tabla.loc[tabla[atributo] == v]\n",
    "        Gi[-1] -= (len(table)/l)*(1-sum(table.iloc[:,-1].value_counts(normalize=True)**2))\n",
    "G_Gini, Gi"
   ]
  },
  {
   "cell_type": "code",
   "execution_count": 22,
   "id": "07fa1fce",
   "metadata": {},
   "outputs": [
    {
     "name": "stdout",
     "output_type": "stream",
     "text": [
      "Ganancia MAXIMA en Información (GINI) =    - outlook -\n"
     ]
    }
   ],
   "source": [
    "print(\"Ganancia MAXIMA en Información (GINI) =    -\", tabla.columns[np.argmax(Gi)], \"-\")"
   ]
  }
 ],
 "metadata": {
  "kernelspec": {
   "display_name": "Python 3 (ipykernel)",
   "language": "python",
   "name": "python3"
  },
  "language_info": {
   "codemirror_mode": {
    "name": "ipython",
    "version": 3
   },
   "file_extension": ".py",
   "mimetype": "text/x-python",
   "name": "python",
   "nbconvert_exporter": "python",
   "pygments_lexer": "ipython3",
   "version": "3.9.7"
  }
 },
 "nbformat": 4,
 "nbformat_minor": 5
}
