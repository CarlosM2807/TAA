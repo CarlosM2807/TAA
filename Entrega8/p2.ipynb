{
 "cells": [
  {
   "cell_type": "markdown",
   "id": "4016ec90",
   "metadata": {},
   "source": [
    "## ENTREGA 8 - REGRESION LINEAL, MÚLTIPLE Y LOGÍSTICA\n",
    "\n",
    "#### Alumno: Carlos Martín Sanz\n",
    "#### Profesor: Teodoro Calonge Cano"
   ]
  },
  {
   "cell_type": "code",
   "execution_count": 141,
   "id": "9a229fee",
   "metadata": {},
   "outputs": [],
   "source": [
    "import numpy as np\n",
    "import pandas as pd\n",
    "from sklearn.linear_model import LinearRegression\n",
    "from sklearn.model_selection import StratifiedKFold\n",
    "from sklearn.metrics import confusion_matrix\n",
    "from sklearn.preprocessing import MinMaxScaler\n",
    "from sklearn.preprocessing import LabelBinarizer\n",
    "from sklearn.model_selection import train_test_split\n",
    "from sklearn.linear_model import LogisticRegression\n",
    "from sklearn.metrics import accuracy_score"
   ]
  },
  {
   "cell_type": "markdown",
   "id": "d6bc8d6f",
   "metadata": {},
   "source": [
    "##### ********************* EJERCICIO 1 *********************  "
   ]
  },
  {
   "cell_type": "code",
   "execution_count": 142,
   "id": "cdd3edc0",
   "metadata": {},
   "outputs": [],
   "source": [
    "# He descargado ambas partes y juntado, añadiendo las cabeceras en un\n",
    "# único txt, que he llamado avilaModificado.txt, separando cada dato\n",
    "# por comas"
   ]
  },
  {
   "cell_type": "code",
   "execution_count": 143,
   "id": "359e7d7a",
   "metadata": {},
   "outputs": [
    {
     "data": {
      "text/html": [
       "<div>\n",
       "<style scoped>\n",
       "    .dataframe tbody tr th:only-of-type {\n",
       "        vertical-align: middle;\n",
       "    }\n",
       "\n",
       "    .dataframe tbody tr th {\n",
       "        vertical-align: top;\n",
       "    }\n",
       "\n",
       "    .dataframe thead th {\n",
       "        text-align: right;\n",
       "    }\n",
       "</style>\n",
       "<table border=\"1\" class=\"dataframe\">\n",
       "  <thead>\n",
       "    <tr style=\"text-align: right;\">\n",
       "      <th></th>\n",
       "      <th>F1</th>\n",
       "      <th>F2</th>\n",
       "      <th>F3</th>\n",
       "      <th>F4</th>\n",
       "      <th>F5</th>\n",
       "      <th>F6</th>\n",
       "      <th>F7</th>\n",
       "      <th>F8</th>\n",
       "      <th>F9</th>\n",
       "      <th>F10</th>\n",
       "      <th>Class</th>\n",
       "    </tr>\n",
       "  </thead>\n",
       "  <tbody>\n",
       "    <tr>\n",
       "      <th>0</th>\n",
       "      <td>-3.498799</td>\n",
       "      <td>0.250492</td>\n",
       "      <td>0.232070</td>\n",
       "      <td>1.224178</td>\n",
       "      <td>-4.922215</td>\n",
       "      <td>1.145386</td>\n",
       "      <td>0.182426</td>\n",
       "      <td>-0.165983</td>\n",
       "      <td>-0.123005</td>\n",
       "      <td>1.087144</td>\n",
       "      <td>W</td>\n",
       "    </tr>\n",
       "    <tr>\n",
       "      <th>1</th>\n",
       "      <td>0.204355</td>\n",
       "      <td>-0.354049</td>\n",
       "      <td>0.320980</td>\n",
       "      <td>0.410166</td>\n",
       "      <td>-0.989576</td>\n",
       "      <td>-2.218127</td>\n",
       "      <td>0.220177</td>\n",
       "      <td>0.181844</td>\n",
       "      <td>2.090879</td>\n",
       "      <td>-2.009758</td>\n",
       "      <td>A</td>\n",
       "    </tr>\n",
       "    <tr>\n",
       "      <th>2</th>\n",
       "      <td>0.759828</td>\n",
       "      <td>-1.304042</td>\n",
       "      <td>-0.023991</td>\n",
       "      <td>-0.973663</td>\n",
       "      <td>-0.006417</td>\n",
       "      <td>-0.349509</td>\n",
       "      <td>-0.421580</td>\n",
       "      <td>-0.450127</td>\n",
       "      <td>0.469443</td>\n",
       "      <td>0.060952</td>\n",
       "      <td>I</td>\n",
       "    </tr>\n",
       "    <tr>\n",
       "      <th>3</th>\n",
       "      <td>-0.005490</td>\n",
       "      <td>0.360409</td>\n",
       "      <td>0.281860</td>\n",
       "      <td>-0.213479</td>\n",
       "      <td>-1.168333</td>\n",
       "      <td>-1.013906</td>\n",
       "      <td>-0.346080</td>\n",
       "      <td>1.176165</td>\n",
       "      <td>0.968347</td>\n",
       "      <td>-0.627999</td>\n",
       "      <td>E</td>\n",
       "    </tr>\n",
       "    <tr>\n",
       "      <th>4</th>\n",
       "      <td>0.080916</td>\n",
       "      <td>0.101320</td>\n",
       "      <td>0.104040</td>\n",
       "      <td>0.140490</td>\n",
       "      <td>0.261718</td>\n",
       "      <td>0.480988</td>\n",
       "      <td>0.710932</td>\n",
       "      <td>-0.253430</td>\n",
       "      <td>-0.497183</td>\n",
       "      <td>0.155681</td>\n",
       "      <td>A</td>\n",
       "    </tr>\n",
       "    <tr>\n",
       "      <th>...</th>\n",
       "      <td>...</td>\n",
       "      <td>...</td>\n",
       "      <td>...</td>\n",
       "      <td>...</td>\n",
       "      <td>...</td>\n",
       "      <td>...</td>\n",
       "      <td>...</td>\n",
       "      <td>...</td>\n",
       "      <td>...</td>\n",
       "      <td>...</td>\n",
       "      <td>...</td>\n",
       "    </tr>\n",
       "    <tr>\n",
       "      <th>20862</th>\n",
       "      <td>0.080916</td>\n",
       "      <td>0.588093</td>\n",
       "      <td>0.015130</td>\n",
       "      <td>0.002250</td>\n",
       "      <td>0.261718</td>\n",
       "      <td>-0.557133</td>\n",
       "      <td>0.371178</td>\n",
       "      <td>0.932346</td>\n",
       "      <td>0.282354</td>\n",
       "      <td>-0.580141</td>\n",
       "      <td>F</td>\n",
       "    </tr>\n",
       "    <tr>\n",
       "      <th>20863</th>\n",
       "      <td>0.253730</td>\n",
       "      <td>-0.338346</td>\n",
       "      <td>0.352988</td>\n",
       "      <td>-1.154243</td>\n",
       "      <td>0.172340</td>\n",
       "      <td>-0.557133</td>\n",
       "      <td>0.257927</td>\n",
       "      <td>0.348428</td>\n",
       "      <td>0.032902</td>\n",
       "      <td>-0.527134</td>\n",
       "      <td>F</td>\n",
       "    </tr>\n",
       "    <tr>\n",
       "      <th>20864</th>\n",
       "      <td>0.229043</td>\n",
       "      <td>-0.000745</td>\n",
       "      <td>0.171611</td>\n",
       "      <td>-0.002793</td>\n",
       "      <td>0.261718</td>\n",
       "      <td>0.688613</td>\n",
       "      <td>0.295677</td>\n",
       "      <td>-1.088486</td>\n",
       "      <td>-0.590727</td>\n",
       "      <td>0.580142</td>\n",
       "      <td>A</td>\n",
       "    </tr>\n",
       "    <tr>\n",
       "      <th>20865</th>\n",
       "      <td>-0.301743</td>\n",
       "      <td>0.352558</td>\n",
       "      <td>0.288973</td>\n",
       "      <td>1.638181</td>\n",
       "      <td>0.261718</td>\n",
       "      <td>0.688613</td>\n",
       "      <td>0.069175</td>\n",
       "      <td>0.502761</td>\n",
       "      <td>0.625350</td>\n",
       "      <td>0.718969</td>\n",
       "      <td>E</td>\n",
       "    </tr>\n",
       "    <tr>\n",
       "      <th>20866</th>\n",
       "      <td>-0.104241</td>\n",
       "      <td>-1.037102</td>\n",
       "      <td>0.388552</td>\n",
       "      <td>-1.099311</td>\n",
       "      <td>0.172340</td>\n",
       "      <td>-0.307984</td>\n",
       "      <td>0.786433</td>\n",
       "      <td>-1.337547</td>\n",
       "      <td>0.999528</td>\n",
       "      <td>-0.551063</td>\n",
       "      <td>X</td>\n",
       "    </tr>\n",
       "  </tbody>\n",
       "</table>\n",
       "<p>20867 rows × 11 columns</p>\n",
       "</div>"
      ],
      "text/plain": [
       "             F1        F2        F3        F4        F5        F6        F7  \\\n",
       "0     -3.498799  0.250492  0.232070  1.224178 -4.922215  1.145386  0.182426   \n",
       "1      0.204355 -0.354049  0.320980  0.410166 -0.989576 -2.218127  0.220177   \n",
       "2      0.759828 -1.304042 -0.023991 -0.973663 -0.006417 -0.349509 -0.421580   \n",
       "3     -0.005490  0.360409  0.281860 -0.213479 -1.168333 -1.013906 -0.346080   \n",
       "4      0.080916  0.101320  0.104040  0.140490  0.261718  0.480988  0.710932   \n",
       "...         ...       ...       ...       ...       ...       ...       ...   \n",
       "20862  0.080916  0.588093  0.015130  0.002250  0.261718 -0.557133  0.371178   \n",
       "20863  0.253730 -0.338346  0.352988 -1.154243  0.172340 -0.557133  0.257927   \n",
       "20864  0.229043 -0.000745  0.171611 -0.002793  0.261718  0.688613  0.295677   \n",
       "20865 -0.301743  0.352558  0.288973  1.638181  0.261718  0.688613  0.069175   \n",
       "20866 -0.104241 -1.037102  0.388552 -1.099311  0.172340 -0.307984  0.786433   \n",
       "\n",
       "             F8        F9       F10 Class  \n",
       "0     -0.165983 -0.123005  1.087144     W  \n",
       "1      0.181844  2.090879 -2.009758     A  \n",
       "2     -0.450127  0.469443  0.060952     I  \n",
       "3      1.176165  0.968347 -0.627999     E  \n",
       "4     -0.253430 -0.497183  0.155681     A  \n",
       "...         ...       ...       ...   ...  \n",
       "20862  0.932346  0.282354 -0.580141     F  \n",
       "20863  0.348428  0.032902 -0.527134     F  \n",
       "20864 -1.088486 -0.590727  0.580142     A  \n",
       "20865  0.502761  0.625350  0.718969     E  \n",
       "20866 -1.337547  0.999528 -0.551063     X  \n",
       "\n",
       "[20867 rows x 11 columns]"
      ]
     },
     "execution_count": 143,
     "metadata": {},
     "output_type": "execute_result"
    }
   ],
   "source": [
    "datos = pd.read_csv(\"avilaModificado.txt\",delimiter=\",\") \n",
    "datos"
   ]
  },
  {
   "cell_type": "markdown",
   "id": "18e77dc1",
   "metadata": {},
   "source": [
    "##### ********************* EJERCICIO 2 *********************  "
   ]
  },
  {
   "cell_type": "code",
   "execution_count": 144,
   "id": "588db40d",
   "metadata": {},
   "outputs": [],
   "source": [
    "# Regresion lineal multiple, 2/3 a aprendizaje y el resto a \n",
    "# verificacion"
   ]
  },
  {
   "cell_type": "code",
   "execution_count": 145,
   "id": "32fd5079",
   "metadata": {},
   "outputs": [
    {
     "data": {
      "text/plain": [
       "0        W\n",
       "1        A\n",
       "2        I\n",
       "3        E\n",
       "4        A\n",
       "        ..\n",
       "20862    F\n",
       "20863    F\n",
       "20864    A\n",
       "20865    E\n",
       "20866    X\n",
       "Name: Class, Length: 20867, dtype: object"
      ]
     },
     "execution_count": 145,
     "metadata": {},
     "output_type": "execute_result"
    }
   ],
   "source": [
    "# Y es el objetivo, la clase\n",
    "\n",
    "Y = datos[\"Class\"]\n",
    "Y"
   ]
  },
  {
   "cell_type": "code",
   "execution_count": 146,
   "id": "30436f0f",
   "metadata": {},
   "outputs": [
    {
     "name": "stdout",
     "output_type": "stream",
     "text": [
      "[[0.         0.00689256 0.06469769 ... 0.23430517 0.10837791 0.41901184]\n",
      " [0.24174051 0.00533617 0.0663686  ... 0.25427129 0.1531153  0.25278576]\n",
      " [0.27800158 0.00289043 0.05988546 ... 0.21799461 0.12034989 0.36393103]\n",
      " ...\n",
      " [0.24335213 0.00624575 0.06356146 ... 0.18135124 0.09892635 0.39179853]\n",
      " [0.20870262 0.00715532 0.06576708 ... 0.27269271 0.12350041 0.39925006]\n",
      " [0.22159548 0.00357766 0.06763849 ... 0.16705453 0.13106166 0.33108115]]\n"
     ]
    }
   ],
   "source": [
    "X = datos.drop(columns=[\"Class\"])\n",
    "\n",
    "# Normalizamos\n",
    "\n",
    "X = MinMaxScaler().fit_transform(X)\n",
    "print(X)"
   ]
  },
  {
   "cell_type": "code",
   "execution_count": 147,
   "id": "472876ae",
   "metadata": {},
   "outputs": [
    {
     "name": "stdout",
     "output_type": "stream",
     "text": [
      "[[0 0 0 ... 1 0 0]\n",
      " [1 0 0 ... 0 0 0]\n",
      " [0 0 0 ... 0 0 0]\n",
      " ...\n",
      " [1 0 0 ... 0 0 0]\n",
      " [0 0 0 ... 0 0 0]\n",
      " [0 0 0 ... 0 1 0]]\n"
     ]
    }
   ],
   "source": [
    "# Binarización de las etiquetas\n",
    "\n",
    "YBinario = LabelBinarizer().fit_transform(Y)\n",
    "print(YBinario)"
   ]
  },
  {
   "cell_type": "code",
   "execution_count": 148,
   "id": "419747a6",
   "metadata": {},
   "outputs": [],
   "source": [
    "# HOLD OUT\n",
    "# Test size 1/3, como dice el enunciado \n",
    "\n",
    "X_train, X_test, Y_train, Y_test = train_test_split(X, YBinario, test_size=1/3, stratify=YBinario, random_state=0)"
   ]
  },
  {
   "cell_type": "code",
   "execution_count": 149,
   "id": "4618f617",
   "metadata": {},
   "outputs": [
    {
     "data": {
      "text/plain": [
       "((13911, 10), (6956, 10), (13911, 12), (6956, 12))"
      ]
     },
     "execution_count": 149,
     "metadata": {},
     "output_type": "execute_result"
    }
   ],
   "source": [
    "X_train.shape, X_test.shape, Y_train.shape, Y_test.shape"
   ]
  },
  {
   "cell_type": "code",
   "execution_count": 150,
   "id": "3e191d4f",
   "metadata": {},
   "outputs": [],
   "source": [
    "Y_predict = np.zeros(Y_test.shape)\n",
    "\n",
    "for i in range (Y_train.shape[1]):\n",
    "    model = LinearRegression()\n",
    "    model.fit(X_train, Y_train[:,i])\n",
    "    Y_predict[:,i] = model.predict(X_test)"
   ]
  },
  {
   "cell_type": "code",
   "execution_count": 151,
   "id": "2d0681f6",
   "metadata": {},
   "outputs": [
    {
     "name": "stdout",
     "output_type": "stream",
     "text": [
      "Tasa de aciertos = 0.4817423806785509\n"
     ]
    }
   ],
   "source": [
    "print(\"Tasa de aciertos =\",np.sum(np.argmax(Y_predict, axis=1) == np.argmax(Y_test, axis=1))/Y_test.shape[0])"
   ]
  },
  {
   "cell_type": "code",
   "execution_count": 152,
   "id": "27adbfb6",
   "metadata": {},
   "outputs": [
    {
     "name": "stdout",
     "output_type": "stream",
     "text": [
      "\n",
      "Matriz de Confusión:\n",
      " [[2788    0    0    0    6   29    0    0   34    0    0    0]\n",
      " [   0    0    0    0    0    0    0    0    3    0    0    0]\n",
      " [  54    0    0    0    3    4    0    0    8    0    0    0]\n",
      " [ 222    0    0    0    3    1    0    0    9    0    0    0]\n",
      " [ 681    0    0    0   12   15    0    0   21    0    1    0]\n",
      " [1279    0    0    0    1   12    0    0   16    0    0    0]\n",
      " [ 288    0    0    0    0    6    0    0    4    0    0    0]\n",
      " [ 268    0    0    0    3   45    0    0   30    0    0    0]\n",
      " [  54    0    0    0    3    2    0    0  492    0    3    0]\n",
      " [  25    0    0    0    5    0    0    0    0    0    0    0]\n",
      " [ 207    0    0    0   11    1    0    0   82    0   47    0]\n",
      " [  45    0    0    0    2    1    0    0  127    0    3    0]]\n"
     ]
    }
   ],
   "source": [
    "print(\"\\nMatriz de Confusión:\\n\", confusion_matrix(np.argmax(Y_test, axis=1), np.argmax(Y_predict, axis=1)))"
   ]
  },
  {
   "cell_type": "markdown",
   "id": "e31c757a",
   "metadata": {},
   "source": [
    "##### ********************* EJERCICIO 3 *********************  "
   ]
  },
  {
   "cell_type": "code",
   "execution_count": 153,
   "id": "c6976807",
   "metadata": {},
   "outputs": [],
   "source": [
    "# Como ahora nos pide validacion cruzada con estratificacion\n",
    "# voy a utilizar StratifiedKFold y como numero de carpetas habitual 10"
   ]
  },
  {
   "cell_type": "code",
   "execution_count": 154,
   "id": "2350b4a5",
   "metadata": {},
   "outputs": [],
   "source": [
    "precision = 0\n",
    "K = 10\n",
    "kfold = StratifiedKFold(n_splits=K)"
   ]
  },
  {
   "cell_type": "code",
   "execution_count": 155,
   "id": "58268140",
   "metadata": {},
   "outputs": [
    {
     "name": "stdout",
     "output_type": "stream",
     "text": [
      "Las tasas de error de las 10 carpetas son: \n",
      "\n",
      "0.47436511739338766\n",
      "0.47963584091998085\n",
      "0.4810733109726881\n",
      "0.48203162434115954\n",
      "0.47867752755150933\n",
      "0.47771921418303787\n",
      "0.4877815045519885\n",
      "0.48370086289549374\n",
      "0.4851390220517737\n",
      "0.4841802492809204\n",
      "\n",
      "La media de las tasas de error:  0.481430427414194\n"
     ]
    }
   ],
   "source": [
    "precision = 0\n",
    "cv = StratifiedKFold(n_splits=10)\n",
    "print(\"Las tasas de error de las 10 carpetas son: \\n\")\n",
    "for train_index, test_index in cv.split(X,Y):\n",
    "    X_train, X_test = X[train_index], X[test_index]\n",
    "    Y_train, Y_test = YBinario[train_index], YBinario[test_index]\n",
    "    Y_predict = np.zeros(Y_test.shape)\n",
    "    for i in range(Y_train.shape[1]):\n",
    "        linReg = LinearRegression()\n",
    "        linReg.fit(X_train, Y_train[:,i])\n",
    "        Y_predict[:,i] = linReg.predict(X_test)\n",
    "    print(np.sum(np.argmax(Y_predict, axis=1) == np.argmax(Y_test, axis=1))/Y_test.shape[0])\n",
    "    precision += np.sum(np.argmax(Y_predict, axis=1) == np.argmax(Y_test, axis=1))/Y_test.shape[0]\n",
    "\n",
    "print(\"\\nLa media de las tasas de error: \", precision/10)"
   ]
  },
  {
   "cell_type": "markdown",
   "id": "9cf04b9e",
   "metadata": {},
   "source": [
    "##### ********************* EJERCICIO 4 *********************   "
   ]
  },
  {
   "cell_type": "markdown",
   "id": "692b6d15",
   "metadata": {},
   "source": [
    "##### HOLD OUT"
   ]
  },
  {
   "cell_type": "code",
   "execution_count": 156,
   "id": "2feece75",
   "metadata": {},
   "outputs": [],
   "source": [
    "X_train, X_test, y_train, y_test = train_test_split(X, Y, test_size = 1./3., random_state=0, stratify=Y)"
   ]
  },
  {
   "cell_type": "code",
   "execution_count": 157,
   "id": "5fbf052d",
   "metadata": {},
   "outputs": [
    {
     "data": {
      "text/plain": [
       "LogisticRegression(max_iter=500, random_state=0)"
      ]
     },
     "execution_count": 157,
     "metadata": {},
     "output_type": "execute_result"
    }
   ],
   "source": [
    "regresion_logistica = LogisticRegression(\n",
    "    random_state = 0, solver='lbfgs',\n",
    "    multi_class='auto', max_iter= 500)\n",
    "\n",
    "regresion_logistica.fit(X_train, y_train)\n"
   ]
  },
  {
   "cell_type": "code",
   "execution_count": 158,
   "id": "f3b17b55",
   "metadata": {},
   "outputs": [],
   "source": [
    "precision = regresion_logistica.score(X_test, y_test)"
   ]
  },
  {
   "cell_type": "code",
   "execution_count": 159,
   "id": "4a3ff08e",
   "metadata": {},
   "outputs": [
    {
     "name": "stdout",
     "output_type": "stream",
     "text": [
      "Tasa de aciertos = 0.49611845888441636\n"
     ]
    }
   ],
   "source": [
    "print(\"Tasa de aciertos =\",precision)"
   ]
  },
  {
   "cell_type": "code",
   "execution_count": 160,
   "id": "5c861564",
   "metadata": {},
   "outputs": [
    {
     "name": "stdout",
     "output_type": "stream",
     "text": [
      "\n",
      "Matriz de Confusión:\n",
      " [[2798    0    0    0    5   48    0    2    0    0    4    0]\n",
      " [   3    0    0    0    0    0    0    0    0    0    0    0]\n",
      " [  61    0    0    0    0    8    0    0    0    0    0    0]\n",
      " [ 226    0    0    0    1    8    0    0    0    0    0    0]\n",
      " [ 706    0    0    0    0   22    0    0    0    0    2    0]\n",
      " [1277    0    0    0    2   19    0    5    5    0    0    0]\n",
      " [ 293    0    0    0    0    0    0    1    0    0    4    0]\n",
      " [ 311    0    0    0    0   32    0    0    3    0    0    0]\n",
      " [  41    0    0    0    2    8    0    2  499    0    2    0]\n",
      " [  30    0    0    0    0    0    0    0    0    0    0    0]\n",
      " [ 207    0    0    0    1    3    0    0    2    0  135    0]\n",
      " [ 121    0    0    0    1    0    0    0   19    0   37    0]]\n"
     ]
    }
   ],
   "source": [
    "x_pred = regresion_logistica.predict(X_test)\n",
    "matrizconfusion = confusion_matrix(y_test,x_pred)\n",
    "print(\"\\nMatriz de Confusión:\\n\", matrizconfusion)"
   ]
  },
  {
   "cell_type": "markdown",
   "id": "378b6090",
   "metadata": {},
   "source": [
    "# -----------------------------------------------------------------"
   ]
  },
  {
   "cell_type": "markdown",
   "id": "686607b0",
   "metadata": {},
   "source": [
    "##### VALIDACION CRUZADA"
   ]
  },
  {
   "cell_type": "code",
   "execution_count": 161,
   "id": "137ab97e",
   "metadata": {},
   "outputs": [],
   "source": [
    "reg_log = LogisticRegression(random_state=0, multi_class='auto', solver='lbfgs', max_iter=500)"
   ]
  },
  {
   "cell_type": "code",
   "execution_count": 140,
   "id": "5bc669f1",
   "metadata": {},
   "outputs": [
    {
     "name": "stdout",
     "output_type": "stream",
     "text": [
      "\n",
      "Tasa de acierto: \n",
      " 0.4992098049331547\n"
     ]
    }
   ],
   "source": [
    "tasa = 0\n",
    "cv = StratifiedKFold(n_splits=10)\n",
    "\n",
    "for train_index, test_index in cv.split(X,Y):\n",
    "    \n",
    "    X_train, X_test = X[train_index], X[test_index]\n",
    "    Y_train, Y_test = Y[train_index], Y[test_index]\n",
    "    \n",
    "    reg_log.fit(X_train, Y_train)\n",
    "    tasa += reg_log.score(X_test, Y_test)\n",
    "    \n",
    "print(\"\\nTasa de acierto: \\n\",tasa/10)"
   ]
  },
  {
   "cell_type": "code",
   "execution_count": null,
   "id": "a5e59cb9",
   "metadata": {},
   "outputs": [],
   "source": []
  }
 ],
 "metadata": {
  "kernelspec": {
   "display_name": "Python 3 (ipykernel)",
   "language": "python",
   "name": "python3"
  },
  "language_info": {
   "codemirror_mode": {
    "name": "ipython",
    "version": 3
   },
   "file_extension": ".py",
   "mimetype": "text/x-python",
   "name": "python",
   "nbconvert_exporter": "python",
   "pygments_lexer": "ipython3",
   "version": "3.9.7"
  }
 },
 "nbformat": 4,
 "nbformat_minor": 5
}
